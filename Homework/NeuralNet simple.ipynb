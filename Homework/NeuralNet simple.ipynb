{
 "cells": [
  {
   "cell_type": "markdown",
   "metadata": {},
   "source": [
    "В цій практичній роботі ми спробуємо реалізувати нейронну мережу з двох шарів (прихований і вихідний). Запропонований підхід стане заготовкою для реалізації наступних оптимізацій: MBGD, ADAM та регуляризації. \n",
    "\n",
    "Сьогодні ж вам пропонується додати до цього класу підтримку довільної кількості шарів та нейронів в них (наприклад, передавати їх параметром в конструктор, як це робиться в MLPClassifier за допомогою hidden_layer_sizes). Також потрібно передбачити можливість ранньої зупинки ітераційного процесу, якщо значення штрафної функції не покращуватиметься протягом певної кількості ітерацій. Наприклад, якщо протягом $k$ ітерацій штрафна функція за модулем не стане меншою, ніж на поточному кроці."
   ]
  },
  {
   "cell_type": "code",
   "execution_count": 1,
   "metadata": {},
   "outputs": [],
   "source": [
    "import numpy as np\n",
    "import pandas as pd\n",
    "from sklearn.model_selection import train_test_split\n",
    "from mpl_toolkits.mplot3d import Axes3D\n",
    "import matplotlib.pyplot as plt\n",
    "\n",
    "from matplotlib.colors import ListedColormap\n",
    "cm_bright = ListedColormap(['#FF0000', '#0000FF'])\n",
    "%matplotlib inline\n",
    "from sklearn.metrics import accuracy_score\n",
    "\n",
    "import sklearn.linear_model"
   ]
  },
  {
   "cell_type": "code",
   "execution_count": 2,
   "metadata": {},
   "outputs": [],
   "source": [
    "def plot_surface(cls, x_1, x_2, ax=None, threshold=0.5, contourf=False):\n",
    "    xx1, xx2 = np.meshgrid(np.linspace(x_1.min(), x_1.max(), 100), \n",
    "                           np.linspace(x_2.min(), x_2.max(), 100))\n",
    "\n",
    "    X_pred = np.c_[xx1.ravel(), xx2.ravel()]\n",
    "    pred = cls.predict_proba(X_pred)[:, 0]\n",
    "    Z = pred.reshape((100, 100))\n",
    "    if ax is None:\n",
    "        ax = plt.gca()\n",
    "    ax.contour(xx1, xx2, Z, levels=[threshold], colors='black')\n",
    "    ax.set_xlim((x_1.min(), x_1.max()))\n",
    "    ax.set_ylim((x_2.min(), x_2.max()))"
   ]
  },
  {
   "cell_type": "code",
   "execution_count": 3,
   "metadata": {},
   "outputs": [],
   "source": [
    "def plot_data(X, y):\n",
    "    ax = plt.gca()\n",
    "    ax.scatter(X[:,0], X[:,1], c=(y == 1), cmap=cm_bright)"
   ]
  },
  {
   "cell_type": "code",
   "execution_count": 330,
   "metadata": {},
   "outputs": [],
   "source": [
    "class NeuralNet:\n",
    "    \"\"\"\n",
    "    NN for binary classification\n",
    "    Attributes:\n",
    "    ...\n",
    "    \"\"\"\n",
    "    \n",
    "    def __init__(self, normalize = True, learning_rate = 0.01, num_iter = 30000,num_node=[20,1],accuracy=0.00001):\n",
    "        self.learning_rate = learning_rate\n",
    "        self.num_iter = num_iter\n",
    "        self.normalize = normalize\n",
    "        self.num_layer=len(num_node)\n",
    "        self.num_node=num_node\n",
    "        self.accuracy=accuracy\n",
    "        self.W=None\n",
    "        self.b=None\n",
    "        self.Z=None\n",
    "        self.A=None\n",
    "        self.dW=None\n",
    "        self.db=None\n",
    "        self.dZ=None\n",
    "        self.dA=None\n",
    "    \n",
    "    def __normalize(self, X, mean = None, std = None):\n",
    "        \"\"\"\n",
    "        Зверніть увагу, що нормалізація вхідних даних є дуже важливою для швидкодії нейронних мереж.\n",
    "        \"\"\"\n",
    "        n = X.shape[0]\n",
    "        m = mean\n",
    "        if m is None:\n",
    "            m = np.mean(X, axis=1).reshape((n, 1))\n",
    "        s = std\n",
    "        if s is None:\n",
    "            s = np.std(X, axis=1).reshape((n, 1))\n",
    "        X_new = (X - m) / s**2\n",
    "        return X_new, m, s\n",
    "\n",
    "    def __sigmoid(self, Z):\n",
    "        \"\"\"\n",
    "        В наступних практичних потрібно буде додати підтримку й інших активаційних функцій - це один з гіперпараметрів. \n",
    "        Їх можна вибирати для всіх шарів одночасно або мати різні активаційні функції на кожному з них.\n",
    "        \"\"\"\n",
    "        return 1 / (1 + np.exp(-Z))\n",
    "    \n",
    "    def __initialize_parameters(self, n_x):\n",
    "        self.W=[]\n",
    "        self.W.append(list(np.random.randn(self.num_node[0], n_x) * 0.01))\n",
    "        self.b=[np.zeros((self.num_node[i], 1)) for i in range(self.num_layer)]\n",
    "        self.W=self.W+[list((np.random.randn(self.num_node[i],self.num_node[i-1])*  0.01)) for i in range(1,self.num_layer)]\n",
    "\n",
    "       \n",
    "    def __forward_propagation(self, X):\n",
    "\n",
    "        self.Z=[]\n",
    "        self.A=[]\n",
    "        self.Z.append(np.dot(self.W[0], X) + self.b[0])\n",
    "        self.A.append(self.__sigmoid(self.Z[0]))\n",
    "\n",
    "        for i in range(1,len(self.W)):\n",
    "            self.Z.append(np.dot(self.W[i], self.A[i-1]) + self.b[i])\n",
    "            self.A.append(self.__sigmoid(self.Z[i]))\n",
    "        return self.A[-1]\n",
    "    \n",
    "    def compute_cost(self, A, Y):\n",
    "        m = Y.shape[1]\n",
    "        res = Y * np.log(A) + (1 - Y) * np.log(1 - A)\n",
    "        J = -(1 / m) * np.sum(res)\n",
    "        return J\n",
    "        \n",
    "    def __backward_propagation(self, X, Y):\n",
    "        m = X.shape[1]\n",
    "        n = X.shape[0]\n",
    "        W, b,Z, A=self.W,self.b,self.Z,self.A\n",
    "        self.dW,self.db,self.dZ,self.dA=[],[],[],[]\n",
    "\n",
    "        self.dZ.append(A[-1] - Y)\n",
    "        self.dW.append(1. / m * np.dot(self.dZ[-1], A[-2].T))\n",
    "        self.db.append(1. / m * np.sum(self.dZ[-1], axis = 1, keepdims = True))\n",
    "        self.dA.append(np.dot(np.array(W[-1]).T, self.dZ[-1]))       \n",
    "\n",
    "\n",
    "        for i in range(self.num_layer-1):\n",
    "#             if(self.num_layer-2-i<0):break\n",
    "            self.dZ.append(np.multiply(self.dA[i], np.multiply(A[self.num_layer-2-i], 1 - A[self.num_layer-2-i])))\n",
    "            if(self.num_layer-3-i>=0):\n",
    "                self.dW.append( 1. / m * np.dot(self.dZ[i+1], A[self.num_layer-3-i].T))\n",
    "            else:\n",
    "                self.dW.append( 1. / m * np.dot(self.dZ[i+1], X.T))\n",
    "            self.db.append( 1. / m * np.sum(self.dZ[i+1], axis = 1, keepdims = True))\n",
    "            self.dA.append(np.dot(np.array(W[self.num_layer-2-i]).T, self.dZ[i+1]))\n",
    "       \n",
    "        self.dW.reverse()\n",
    "        self.db.reverse()\n",
    "        self.dZ.reverse()\n",
    "        self.dA.reverse()\n",
    "\n",
    "    \n",
    "    def __update_parameters(self):\n",
    "        \n",
    "        for i in range(self.num_layer):\n",
    "            self.W[i] = self.W[i] - self.learning_rate * self.dW[i]\n",
    "            self.b[i] = self.b[i] - self.learning_rate * self.db[i]\n",
    "\n",
    "        \n",
    "    def fit(self, X_vert, Y_vert, print_cost = True):\n",
    "        \n",
    "        X, Y = X_vert.T, Y_vert.T\n",
    "        \n",
    "        if self.normalize:\n",
    "            X, self.__mean, self.__std = self.__normalize(X)\n",
    "        \n",
    "        costs = []\n",
    "        check = []\n",
    "        m = X.shape[1]\n",
    "        n_x = X.shape[0]\n",
    "        \n",
    "        self.__initialize_parameters(n_x)\n",
    " \n",
    "        for i in range(self.num_iter):\n",
    "            A = self.__forward_propagation(X)\n",
    "\n",
    "            cost = self.compute_cost(A, Y)\n",
    "\n",
    "            self.__backward_propagation(X, Y)\n",
    "\n",
    "            self.__update_parameters()\n",
    "        \n",
    "            check.append(cost)\n",
    "            if print_cost and i % 1000 == 0:\n",
    "                print(\"{}-th iteration: {}\".format(i, cost))\n",
    "\n",
    "            if i % 1000 == 0:\n",
    "                costs.append(cost)\n",
    "                \n",
    "            if(len(check)>2 and abs(check[i]-check[i-1])<self.accuracy):\n",
    "                break\n",
    "\n",
    "        if print_cost:\n",
    "            plt.plot(costs)\n",
    "            plt.ylabel(\"Cost\")\n",
    "            plt.xlabel(\"Iteration, *1000\")\n",
    "            plt.show()\n",
    "    \n",
    "    def predict_proba(self, X_vert):\n",
    "        X = X_vert.T\n",
    "        if self.normalize:\n",
    "            X, _, _ = self.__normalize(X, self.__mean, self.__std)\n",
    "        \n",
    "        probs = self.__forward_propagation(X)[0]\n",
    "        \n",
    "        return np.column_stack((probs.T, 1 - probs.T))\n",
    "    \n",
    "    def predict(self, X_vert):\n",
    "        positive_probs = self.predict_proba(X_vert)[:, 0]\n",
    "        return (positive_probs >= 0.5).astype(int)   \n"
   ]
  },
  {
   "cell_type": "markdown",
   "metadata": {},
   "source": [
    "Спочатку спробуйте цей клас на одній задачі, а потім на іншій."
   ]
  },
  {
   "cell_type": "code",
   "execution_count": 310,
   "metadata": {},
   "outputs": [
    {
     "name": "stdout",
     "output_type": "stream",
     "text": [
      "Training set: X=(100, 2), y=(100,)\n"
     ]
    }
   ],
   "source": [
    "# data_columns = [\"exam1\", \"exam2\"]\n",
    "# target_column = \"submitted\"\n",
    "# df = pd.read_csv(\"sats.csv\")\n",
    "# X, Y = df[data_columns].values, df[target_column]\n",
    "# print('Training set: X={}, y={}'.format(X.shape, Y.shape))"
   ]
  },
  {
   "cell_type": "code",
   "execution_count": 352,
   "metadata": {},
   "outputs": [
    {
     "name": "stdout",
     "output_type": "stream",
     "text": [
      "Training set: X=(118, 2), y=(118,)\n"
     ]
    }
   ],
   "source": [
    "data_columns = [\"test1\", \"test2\"]\n",
    "target_column = \"passed\"\n",
    "df = pd.read_csv(\"tests.csv\")\n",
    "X, Y = df[data_columns].values, df[target_column]\n",
    "print('Training set: X={}, y={}'.format(X.shape, Y.shape))"
   ]
  },
  {
   "cell_type": "code",
   "execution_count": 353,
   "metadata": {},
   "outputs": [
    {
     "data": {
      "image/png": "[encoded data removed]",
      "text/plain": [
       "<Figure size 432x288 with 1 Axes>"
      ]
     },
     "metadata": {
      "needs_background": "light"
     },
     "output_type": "display_data"
    }
   ],
   "source": [
    "plot_data(X, Y)"
   ]
  },
  {
   "cell_type": "code",
   "execution_count": 361,
   "metadata": {},
   "outputs": [],
   "source": [
    "cls = NeuralNet(normalize = True, learning_rate = 0.5, num_iter = 4000,num_node=[5,20,],accuracy=0.00000000001)"
   ]
  },
  {
   "cell_type": "code",
   "execution_count": 362,
   "metadata": {},
   "outputs": [
    {
     "name": "stdout",
     "output_type": "stream",
     "text": [
      "0-th iteration: 13.86351373419856\n",
      "1000-th iteration: 6.976100909568518\n",
      "2000-th iteration: 6.672820081749665\n",
      "3000-th iteration: 6.51479236593378\n"
     ]
    },
    {
     "data": {
      "image/png": "[encoded data removed]",
      "text/plain": [
       "<Figure size 432x288 with 1 Axes>"
      ]
     },
     "metadata": {
      "needs_background": "light"
     },
     "output_type": "display_data"
    }
   ],
   "source": [
    "cls.fit(X, Y.values.reshape((df.shape[0], 1)))"
   ]
  },
  {
   "cell_type": "code",
   "execution_count": 363,
   "metadata": {},
   "outputs": [],
   "source": [
    "# print(cls.parameters)"
   ]
  },
  {
   "cell_type": "code",
   "execution_count": 364,
   "metadata": {},
   "outputs": [
    {
     "data": {
      "text/plain": [
       "array([[0.45004331, 0.54995669],\n",
       "       [0.74167362, 0.25832638],\n",
       "       [0.12635997, 0.87364003],\n",
       "       [0.05120512, 0.94879488],\n",
       "       [0.0696077 , 0.9303923 ],\n",
       "       [0.97542904, 0.02457096],\n",
       "       [0.06835382, 0.93164618],\n",
       "       [0.30386304, 0.69613696],\n",
       "       [0.53791522, 0.46208478],\n",
       "       [0.97593361, 0.02406639],\n",
       "       [0.97461811, 0.02538189],\n",
       "       [0.08193388, 0.91806612],\n",
       "       [0.25123446, 0.74876554],\n",
       "       [0.03313735, 0.96686265],\n",
       "       [0.96167826, 0.03832174],\n",
       "       [0.30784826, 0.69215174],\n",
       "       [0.61533949, 0.38466051],\n",
       "       [0.48186298, 0.51813702],\n",
       "       [0.94910479, 0.05089521],\n",
       "       [0.00245088, 0.99754912],\n",
       "       [0.97595167, 0.02404833],\n",
       "       [0.97554673, 0.02445327],\n",
       "       [0.9713402 , 0.0286598 ],\n",
       "       [0.0087949 , 0.9912051 ],\n",
       "       [0.10634549, 0.89365451],\n",
       "       [0.97254203, 0.02745797],\n",
       "       [0.08911096, 0.91088904],\n",
       "       [0.15787623, 0.84212377],\n",
       "       [0.28427244, 0.71572756],\n",
       "       [0.93511621, 0.06488379],\n",
       "       [0.95666954, 0.04333046],\n",
       "       [0.54580496, 0.45419504],\n",
       "       [0.57697414, 0.42302586],\n",
       "       [0.97518043, 0.02481957],\n",
       "       [0.00466195, 0.99533805],\n",
       "       [0.71127466, 0.28872534],\n",
       "       [0.54089156, 0.45910844],\n",
       "       [0.0347702 , 0.9652298 ],\n",
       "       [0.97596995, 0.02403005],\n",
       "       [0.00557534, 0.99442466],\n",
       "       [0.00634536, 0.99365464],\n",
       "       [0.31108712, 0.68891288],\n",
       "       [0.0654777 , 0.9345223 ],\n",
       "       [0.1031838 , 0.8968162 ],\n",
       "       [0.18912779, 0.81087221],\n",
       "       [0.96945484, 0.03054516],\n",
       "       [0.0498721 , 0.9501279 ],\n",
       "       [0.00350859, 0.99649141],\n",
       "       [0.01063709, 0.98936291],\n",
       "       [0.07279552, 0.92720448],\n",
       "       [0.94542391, 0.05457609],\n",
       "       [0.23868908, 0.76131092],\n",
       "       [0.97546939, 0.02453061],\n",
       "       [0.00473546, 0.99526454],\n",
       "       [0.2061363 , 0.7938637 ],\n",
       "       [0.07972212, 0.92027788],\n",
       "       [0.06969805, 0.93030195],\n",
       "       [0.71673282, 0.28326718],\n",
       "       [0.58798065, 0.41201935],\n",
       "       [0.58231679, 0.41768321],\n",
       "       [0.39248369, 0.60751631],\n",
       "       [0.95641117, 0.04358883],\n",
       "       [0.00275642, 0.99724358],\n",
       "       [0.56001738, 0.43998262],\n",
       "       [0.97542207, 0.02457793],\n",
       "       [0.94721262, 0.05278738],\n",
       "       [0.06530082, 0.93469918],\n",
       "       [0.08875496, 0.91124504],\n",
       "       [0.36473127, 0.63526873],\n",
       "       [0.0994519 , 0.9005481 ],\n",
       "       [0.9754565 , 0.0245435 ],\n",
       "       [0.54817015, 0.45182985],\n",
       "       [0.84988016, 0.15011984],\n",
       "       [0.56665893, 0.43334107],\n",
       "       [0.86022719, 0.13977281],\n",
       "       [0.97595296, 0.02404704],\n",
       "       [0.24467202, 0.75532798],\n",
       "       [0.93460928, 0.06539072],\n",
       "       [0.3203436 , 0.6796564 ],\n",
       "       [0.94752586, 0.05247414],\n",
       "       [0.00701908, 0.99298092],\n",
       "       [0.97591105, 0.02408895],\n",
       "       [0.97597516, 0.02402484],\n",
       "       [0.35186521, 0.64813479],\n",
       "       [0.66270849, 0.33729151],\n",
       "       [0.24380094, 0.75619906],\n",
       "       [0.05600913, 0.94399087],\n",
       "       [0.07262137, 0.92737863],\n",
       "       [0.46046208, 0.53953792],\n",
       "       [0.03465865, 0.96534135],\n",
       "       [0.26243938, 0.73756062],\n",
       "       [0.97593272, 0.02406728],\n",
       "       [0.95478274, 0.04521726],\n",
       "       [0.03943659, 0.96056341],\n",
       "       [0.1798771 , 0.8201229 ],\n",
       "       [0.01209212, 0.98790788],\n",
       "       [0.97499252, 0.02500748],\n",
       "       [0.06992593, 0.93007407],\n",
       "       [0.22939651, 0.77060349],\n",
       "       [0.86019167, 0.13980833],\n",
       "       [0.97567336, 0.02432664],\n",
       "       [0.95296324, 0.04703676],\n",
       "       [0.73214622, 0.26785378],\n",
       "       [0.00642128, 0.99357872],\n",
       "       [0.04214111, 0.95785889],\n",
       "       [0.97392188, 0.02607812],\n",
       "       [0.07525949, 0.92474051],\n",
       "       [0.28919273, 0.71080727],\n",
       "       [0.49349665, 0.50650335],\n",
       "       [0.89089626, 0.10910374],\n",
       "       [0.30278593, 0.69721407],\n",
       "       [0.84844295, 0.15155705],\n",
       "       [0.04067131, 0.95932869],\n",
       "       [0.97534323, 0.02465677],\n",
       "       [0.08530932, 0.91469068],\n",
       "       [0.6636166 , 0.3363834 ],\n",
       "       [0.07316602, 0.92683398],\n",
       "       [0.07919943, 0.92080057]])"
      ]
     },
     "execution_count": 364,
     "metadata": {},
     "output_type": "execute_result"
    }
   ],
   "source": [
    "Y_prob = cls.predict_proba(X)\n",
    "Y_prob"
   ]
  },
  {
   "cell_type": "code",
   "execution_count": 365,
   "metadata": {},
   "outputs": [
    {
     "data": {
      "text/plain": [
       "array([0, 1, 0, 0, 0, 1, 0, 0, 1, 1, 1, 0, 0, 0, 1, 0, 1, 0, 1, 0, 1, 1,\n",
       "       1, 0, 0, 1, 0, 0, 0, 1, 1, 1, 1, 1, 0, 1, 1, 0, 1, 0, 0, 0, 0, 0,\n",
       "       0, 1, 0, 0, 0, 0, 1, 0, 1, 0, 0, 0, 0, 1, 1, 1, 0, 1, 0, 1, 1, 1,\n",
       "       0, 0, 0, 0, 1, 1, 1, 1, 1, 1, 0, 1, 0, 1, 0, 1, 1, 0, 1, 0, 0, 0,\n",
       "       0, 0, 0, 1, 1, 0, 0, 0, 1, 0, 0, 1, 1, 1, 1, 0, 0, 1, 0, 0, 0, 1,\n",
       "       0, 1, 0, 1, 0, 1, 0, 0])"
      ]
     },
     "execution_count": 365,
     "metadata": {},
     "output_type": "execute_result"
    }
   ],
   "source": [
    "Y_hat = cls.predict(X)\n",
    "Y_hat"
   ]
  },
  {
   "cell_type": "code",
   "execution_count": 366,
   "metadata": {},
   "outputs": [
    {
     "data": {
      "text/plain": [
       "0.8389830508474576"
      ]
     },
     "execution_count": 366,
     "metadata": {},
     "output_type": "execute_result"
    }
   ],
   "source": [
    "accuracy_score(Y, Y_hat)"
   ]
  },
  {
   "cell_type": "code",
   "execution_count": 367,
   "metadata": {},
   "outputs": [
    {
     "data": {
      "image/png": "[encoded data removed]",
      "text/plain": [
       "<Figure size 432x288 with 1 Axes>"
      ]
     },
     "metadata": {
      "needs_background": "light"
     },
     "output_type": "display_data"
    }
   ],
   "source": [
    "plot_data(X, Y)\n",
    "plot_surface(cls, X[:, 0], X[:, 1])"
   ]
  },
  {
   "cell_type": "markdown",
   "metadata": {},
   "source": [
    "Зверніть увагу на границю прийняття рішення. Модель старається побудувати складну криву, що може свідчити про її перетренування. Порівняйте отримані результати з класом з sklearn. Спробуйте додати нові шари для нашого класу та порівняти результати тоді. Поекспериментуйте з гіперпараметрами для обох класів."
   ]
  },
  {
   "cell_type": "code",
   "execution_count": 370,
   "metadata": {},
   "outputs": [],
   "source": [
    "from sklearn.neural_network import MLPClassifier\n",
    "clf = MLPClassifier(hidden_layer_sizes = (5,20,), max_iter = 4000, activation = 'relu', solver = 'sgd', learning_rate_init = 0.01, learning_rate = 'constant')"
   ]
  },
  {
   "cell_type": "code",
   "execution_count": 371,
   "metadata": {},
   "outputs": [
    {
     "data": {
      "text/plain": [
       "MLPClassifier(activation='relu', alpha=0.0001, batch_size='auto', beta_1=0.9,\n",
       "              beta_2=0.999, early_stopping=False, epsilon=1e-08,\n",
       "              hidden_layer_sizes=(5, 20), learning_rate='constant',\n",
       "              learning_rate_init=0.01, max_iter=4000, momentum=0.9,\n",
       "              n_iter_no_change=10, nesterovs_momentum=True, power_t=0.5,\n",
       "              random_state=None, shuffle=True, solver='sgd', tol=0.0001,\n",
       "              validation_fraction=0.1, verbose=False, warm_start=False)"
      ]
     },
     "execution_count": 371,
     "metadata": {},
     "output_type": "execute_result"
    }
   ],
   "source": [
    "clf.fit(X, Y)"
   ]
  },
  {
   "cell_type": "code",
   "execution_count": 372,
   "metadata": {},
   "outputs": [
    {
     "data": {
      "image/png": "[encoded data removed]",
      "text/plain": [
       "<Figure size 432x288 with 1 Axes>"
      ]
     },
     "metadata": {
      "needs_background": "light"
     },
     "output_type": "display_data"
    }
   ],
   "source": [
    "plot_data(X, Y)\n",
    "plot_surface(clf, X[:, 0], X[:, 1])"
   ]
  },
  {
   "cell_type": "code",
   "execution_count": 373,
   "metadata": {},
   "outputs": [
    {
     "data": {
      "text/plain": [
       "0.847457627118644"
      ]
     },
     "execution_count": 373,
     "metadata": {},
     "output_type": "execute_result"
    }
   ],
   "source": [
    "accuracy_score(Y, clf.predict(X))"
   ]
  },
  {
   "cell_type": "code",
   "execution_count": null,
   "metadata": {},
   "outputs": [],
   "source": []
  }
 ],
 "metadata": {
  "anaconda-cloud": {},
  "kernelspec": {
   "display_name": "Python 3",
   "language": "python",
   "name": "python3"
  },
  "language_info": {
   "codemirror_mode": {
    "name": "ipython",
    "version": 3
   },
   "file_extension": ".py",
   "mimetype": "text/x-python",
   "name": "python",
   "nbconvert_exporter": "python",
   "pygments_lexer": "ipython3",
   "version": "3.7.3"
  }
 },
 "nbformat": 4,
 "nbformat_minor": 1
}
