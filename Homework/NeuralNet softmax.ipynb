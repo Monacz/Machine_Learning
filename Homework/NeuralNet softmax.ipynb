{
 "cells": [
  {
   "cell_type": "markdown",
   "metadata": {},
   "source": [
    "В цій практичній роботі ми спробуємо реалізувати нейронну мережу з двох шарів (прихований і вихідний). Запропонований підхід стане заготовкою для реалізації наступних оптимізацій: MBGD, ADAM та регуляризації. \n",
    "\n",
    "Сьогодні ж вам пропонується додати до цього класу підтримку довільної кількості шарів та нейронів в них (наприклад, передавати їх параметром в конструктор, як це робиться в MLPClassifier за допомогою hidden_layer_sizes). Також потрібно передбачити можливість ранньої зупинки ітераційного процесу, якщо значення штрафної функції не покращуватиметься протягом певної кількості ітерацій. Наприклад, якщо протягом $k$ ітерацій штрафна функція за модулем не стане меншою, ніж на поточному кроці."
   ]
  },
  {
   "cell_type": "code",
   "execution_count": 1,
   "metadata": {},
   "outputs": [],
   "source": [
    "import numpy as np\n",
    "import pandas as pd\n",
    "from sklearn.model_selection import train_test_split\n",
    "from mpl_toolkits.mplot3d import Axes3D\n",
    "import matplotlib.pyplot as plt\n",
    "\n",
    "from matplotlib.colors import ListedColormap\n",
    "cm_bright = ListedColormap(['#FF0000', '#0000FF'])\n",
    "%matplotlib inline\n",
    "from sklearn.metrics import accuracy_score\n",
    "\n",
    "import sklearn.linear_model"
   ]
  },
  {
   "cell_type": "code",
   "execution_count": 2,
   "metadata": {},
   "outputs": [],
   "source": [
    "def plot_surface(cls, x_1, x_2, ax=None, threshold=0.5, contourf=False):\n",
    "    xx1, xx2 = np.meshgrid(np.linspace(x_1.min(), x_1.max(), 100), \n",
    "                           np.linspace(x_2.min(), x_2.max(), 100))\n",
    "\n",
    "    X_pred = np.c_[xx1.ravel(), xx2.ravel()]\n",
    "    pred = cls.predict_proba(X_pred)[:, 0]\n",
    "    Z = pred.reshape((100, 100))\n",
    "    if ax is None:\n",
    "        ax = plt.gca()\n",
    "    ax.contour(xx1, xx2, Z, levels=[threshold], colors='black')\n",
    "    ax.set_xlim((x_1.min(), x_1.max()))\n",
    "    ax.set_ylim((x_2.min(), x_2.max()))"
   ]
  },
  {
   "cell_type": "code",
   "execution_count": 3,
   "metadata": {},
   "outputs": [],
   "source": [
    "def plot_data(X, y):\n",
    "    ax = plt.gca()\n",
    "    ax.scatter(X[:,0], X[:,1], c=(y == 1), cmap=cm_bright)"
   ]
  },
  {
   "cell_type": "code",
   "execution_count": 234,
   "metadata": {},
   "outputs": [],
   "source": [
    "class NeuralNet:\n",
    "    \"\"\"\n",
    "    NN for binary classification\n",
    "    Attributes:\n",
    "    ...\n",
    "    \"\"\"\n",
    "    \n",
    "    def __init__(self, normalize = True, learning_rate = 0.01, num_iter = 30000,num_node=[20,1],accuracy=0.00001):\n",
    "        self.learning_rate = learning_rate\n",
    "        self.num_iter = num_iter\n",
    "        self.normalize = normalize\n",
    "        self.num_layer=len(num_node)\n",
    "        self.num_node=num_node\n",
    "        self.accuracy=accuracy\n",
    "        self.W=None\n",
    "        self.b=None\n",
    "        self.Z=None\n",
    "        self.A=None\n",
    "        self.dW=None\n",
    "        self.db=None\n",
    "        self.dZ=None\n",
    "        self.dA=None\n",
    "    \n",
    "    def __normalize(self, X, mean = None, std = None):\n",
    "        \"\"\"\n",
    "        Зверніть увагу, що нормалізація вхідних даних є дуже важливою для швидкодії нейронних мереж.\n",
    "        \"\"\"\n",
    "        n = X.shape[0]\n",
    "        m = mean\n",
    "        if m is None:\n",
    "            m = np.mean(X, axis=1).reshape((n, 1))\n",
    "        s = std\n",
    "        if s is None:\n",
    "            s = np.std(X, axis=1).reshape((n, 1))\n",
    "        X_new = (X - m) / s**2\n",
    "        return X_new, m, s\n",
    "\n",
    "    def __sigmoid(self, Z):\n",
    "        \"\"\"\n",
    "        В наступних практичних потрібно буде додати підтримку й інших активаційних функцій - це один з гіперпараметрів. \n",
    "        Їх можна вибирати для всіх шарів одночасно або мати різні активаційні функції на кожному з них.\n",
    "        \"\"\"\n",
    "        return 1 / (1 + np.exp(-Z))\n",
    "    \n",
    "    \n",
    "    def __softmax(self, Z):\n",
    "        return np.exp(Z) / np.sum(np.exp(Z)) \n",
    "    \n",
    "    def __initialize_parameters(self, n_x):\n",
    "        \n",
    "        \n",
    "        self.W=[]\n",
    "        self.W.append(list(np.random.randn(self.num_node[0], n_x)/np.sqrt(n_x)))\n",
    "        self.b=[np.zeros((self.num_node[i], 1)) for i in range(self.num_layer)]\n",
    "        self.W=self.W+[list((np.random.randn(self.num_node[i],self.num_node[i-1])/\n",
    "                             np.sqrt(self.num_node[i-1]))) for i in range(1,self.num_layer)]\n",
    "\n",
    "       \n",
    "    def __forward_propagation(self, X):\n",
    "\n",
    "        self.Z=[]\n",
    "        self.A=[]\n",
    "        self.Z.append(np.dot(self.W[0], X) + self.b[0])\n",
    "        self.A.append(self.__sigmoid(self.Z[0]))\n",
    "\n",
    "        for i in range(1,len(self.W)-1):\n",
    "            self.Z.append(np.dot(self.W[i], self.A[i-1]) + self.b[i])\n",
    "            self.A.append(self.__softmax(self.Z[i]))\n",
    "            \n",
    "        self.Z.append(np.dot(self.W[-1], self.A[-1]) + self.b[-1])\n",
    "        self.A.append(self.__sigmoid(self.Z[-1]))\n",
    "        \n",
    "        return self.A[-1]\n",
    "    \n",
    "    def compute_cost(self, A, Y):\n",
    "        J = -np.mean(Y.T * np.log(A.T+ 1e-8))\n",
    "        return J\n",
    "        \n",
    "    def __backward_propagation(self, X, Y):\n",
    "        m = X.shape[1]\n",
    "        n = X.shape[0]\n",
    "        W, b,Z, A=self.W,self.b,self.Z,self.A\n",
    "\n",
    "      \n",
    "        self.dW,self.db,self.dZ,self.dA=[],[],[],[]\n",
    "        self.dZ.append(A[-1] - Y)\n",
    "        self.dW.append(1. / m * np.dot(self.dZ[-1], A[-2].T))\n",
    "        self.db.append(1. / m * np.sum(self.dZ[-1], axis = 1, keepdims = True))\n",
    "        self.dA.append(np.dot(np.array(W[-1]).T, self.dZ[-1]))       \n",
    "\n",
    "\n",
    "            \n",
    "\n",
    "        for i in range(self.num_layer-1):\n",
    "            self.dZ.append(np.multiply(self.dA[i], np.multiply(A[self.num_layer-2-i], 1 - A[self.num_layer-2-i])))\n",
    "            if(self.num_layer-3-i>=0):\n",
    "                self.dW.append( 1. / m * np.dot(self.dZ[i+1], A[self.num_layer-3-i].T))\n",
    "            else:\n",
    "                self.dW.append( 1. / m * np.dot(self.dZ[i+1], X.T))\n",
    "            self.db.append( 1. / m * np.sum(self.dZ[i+1], axis = 1, keepdims = True))\n",
    "            self.dA.append(np.dot(np.array(W[self.num_layer-2-i]).T, self.dZ[i+1]))\n",
    "       \n",
    "        self.dW.reverse()\n",
    "        self.db.reverse()\n",
    "        self.dZ.reverse()\n",
    "        self.dA.reverse()\n",
    "\n",
    "    \n",
    "    def __update_parameters(self):\n",
    "        \n",
    "        for i in range(self.num_layer):\n",
    "            self.W[i] = self.W[i] - self.learning_rate * self.dW[i]\n",
    "            self.b[i] = self.b[i] - self.learning_rate * self.db[i]\n",
    "\n",
    "        \n",
    "    def fit(self, X_vert, Y_vert, print_cost = True):\n",
    "        \n",
    "        X, Y = X_vert.T, Y_vert.T\n",
    "        \n",
    "        if self.normalize:\n",
    "            X, self.__mean, self.__std = self.__normalize(X)\n",
    "        \n",
    "        costs = []\n",
    "        check = []\n",
    "        m = X.shape[1]\n",
    "        n_x = X.shape[0]\n",
    "        \n",
    "        self.__initialize_parameters(n_x)\n",
    " \n",
    "        for i in range(self.num_iter):\n",
    "            A = self.__forward_propagation(X)\n",
    "\n",
    "            cost = self.compute_cost(A, Y)\n",
    "            self.__backward_propagation(X, Y)\n",
    "\n",
    "            self.__update_parameters()\n",
    "        \n",
    "            check.append(cost)\n",
    "            if print_cost and i % 1000 == 0:\n",
    "                print(\"{}-th iteration: {}\".format(i, cost))\n",
    "\n",
    "            if i % 10 == 0:\n",
    "                costs.append(cost)\n",
    "                \n",
    "            if(len(check)>2 and abs(check[i]-check[i-1])<self.accuracy):\n",
    "                break\n",
    "\n",
    "        if print_cost:\n",
    "            plt.plot(costs)\n",
    "            plt.ylabel(\"Cost\")\n",
    "            plt.xlabel(\"Iteration, *1000\")\n",
    "            plt.show()\n",
    "    \n",
    "    def predict_proba(self, X_vert):\n",
    "        X = X_vert.T\n",
    "        if self.normalize:\n",
    "            X, _, _ = self.__normalize(X, self.__mean, self.__std)\n",
    "        \n",
    "        probs = self.__forward_propagation(X)[0]\n",
    "        \n",
    "        return np.column_stack((probs.T, 1 - probs.T))\n",
    "    \n",
    "    def predict(self, X_vert):\n",
    "        positive_probs = self.predict_proba(X_vert)[:, 0]\n",
    "        return (positive_probs >= 0.5).astype(int)   \n"
   ]
  },
  {
   "cell_type": "markdown",
   "metadata": {},
   "source": [
    "Спочатку спробуйте цей клас на одній задачі, а потім на іншій."
   ]
  },
  {
   "cell_type": "code",
   "execution_count": 214,
   "metadata": {},
   "outputs": [],
   "source": [
    "#data_columns = [\"exam1\", \"exam2\"]\n",
    "#target_column = \"submitted\"\n",
    "#df = pd.read_csv(\"sats.csv\")\n",
    "#X, Y = df[data_columns].values, df[target_column].reshape((df.shape[0], 1))\n",
    "#print('Training set: X={}, y={}'.format(X.shape, Y.shape))"
   ]
  },
  {
   "cell_type": "code",
   "execution_count": 215,
   "metadata": {},
   "outputs": [
    {
     "name": "stdout",
     "output_type": "stream",
     "text": [
      "Training set: X=(118, 2), y=(118,)\n"
     ]
    }
   ],
   "source": [
    "data_columns = [\"test1\", \"test2\"]\n",
    "target_column = \"passed\"\n",
    "df = pd.read_csv(\"tests.csv\")\n",
    "X, Y = df[data_columns].values, df[target_column]\n",
    "print('Training set: X={}, y={}'.format(X.shape, Y.shape))"
   ]
  },
  {
   "cell_type": "code",
   "execution_count": 216,
   "metadata": {},
   "outputs": [
    {
     "data": {
      "image/png": "[encoded data removed]",
      "text/plain": [
       "<Figure size 432x288 with 1 Axes>"
      ]
     },
     "metadata": {
      "needs_background": "light"
     },
     "output_type": "display_data"
    }
   ],
   "source": [
    "plot_data(X, Y)"
   ]
  },
  {
   "cell_type": "code",
   "execution_count": 235,
   "metadata": {},
   "outputs": [],
   "source": [
    "cls = NeuralNet(normalize = True, learning_rate = 0.5, num_iter = 3000,num_node=[5,20,],accuracy=0.00000000001)\n",
    "# cls.initialize_parameters(X.shape[0], 2)\n"
   ]
  },
  {
   "cell_type": "code",
   "execution_count": 236,
   "metadata": {},
   "outputs": [
    {
     "name": "stdout",
     "output_type": "stream",
     "text": [
      "0-th iteration: 0.3604784652649272\n",
      "1000-th iteration: 0.1330941299004529\n",
      "2000-th iteration: 0.1340418577235553\n"
     ]
    },
    {
     "data": {
      "image/png": "[encoded data removed]",
      "text/plain": [
       "<Figure size 432x288 with 1 Axes>"
      ]
     },
     "metadata": {
      "needs_background": "light"
     },
     "output_type": "display_data"
    }
   ],
   "source": [
    "cls.fit(X, Y.values.reshape((df.shape[0], 1)))"
   ]
  },
  {
   "cell_type": "code",
   "execution_count": 237,
   "metadata": {},
   "outputs": [
    {
     "data": {
      "text/plain": [
       "array([[0.4876403 , 0.5123597 ],\n",
       "       [0.76397886, 0.23602114],\n",
       "       [0.20767909, 0.79232091],\n",
       "       [0.07786714, 0.92213286],\n",
       "       [0.07219272, 0.92780728],\n",
       "       [0.97774698, 0.02225302],\n",
       "       [0.07114097, 0.92885903],\n",
       "       [0.4272544 , 0.5727456 ],\n",
       "       [0.57633075, 0.42366925],\n",
       "       [0.97845717, 0.02154283],\n",
       "       [0.97850049, 0.02149951],\n",
       "       [0.12353536, 0.87646464],\n",
       "       [0.29399004, 0.70600996],\n",
       "       [0.04690572, 0.95309428],\n",
       "       [0.96809676, 0.03190324],\n",
       "       [0.42327997, 0.57672003],\n",
       "       [0.82884951, 0.17115049],\n",
       "       [0.48649324, 0.51350676],\n",
       "       [0.9651167 , 0.0348833 ],\n",
       "       [0.0066705 , 0.9933295 ],\n",
       "       [0.97853752, 0.02146248],\n",
       "       [0.97787236, 0.02212764],\n",
       "       [0.97615269, 0.02384731],\n",
       "       [0.01307354, 0.98692646],\n",
       "       [0.16599132, 0.83400868],\n",
       "       [0.9763001 , 0.0236999 ],\n",
       "       [0.15059959, 0.84940041],\n",
       "       [0.31868939, 0.68131061],\n",
       "       [0.75752648, 0.24247352],\n",
       "       [0.96859785, 0.03140215],\n",
       "       [0.96094487, 0.03905513],\n",
       "       [0.5772102 , 0.4227898 ],\n",
       "       [0.7784836 , 0.2215164 ],\n",
       "       [0.97812514, 0.02187486],\n",
       "       [0.00630809, 0.99369191],\n",
       "       [0.88684374, 0.11315626],\n",
       "       [0.56538558, 0.43461442],\n",
       "       [0.05725272, 0.94274728],\n",
       "       [0.97855987, 0.02144013],\n",
       "       [0.00814887, 0.99185113],\n",
       "       [0.00902172, 0.99097828],\n",
       "       [0.6301827 , 0.3698173 ],\n",
       "       [0.07157778, 0.92842222],\n",
       "       [0.15974314, 0.84025686],\n",
       "       [0.26320013, 0.73679987],\n",
       "       [0.97555232, 0.02444768],\n",
       "       [0.06131485, 0.93868515],\n",
       "       [0.00566822, 0.99433178],\n",
       "       [0.01768958, 0.98231042],\n",
       "       [0.08596427, 0.91403573],\n",
       "       [0.94601801, 0.05398199],\n",
       "       [0.37174678, 0.62825322],\n",
       "       [0.97829119, 0.02170881],\n",
       "       [0.00630705, 0.99369295],\n",
       "       [0.4379774 , 0.5620226 ],\n",
       "       [0.09826608, 0.90173392],\n",
       "       [0.07163313, 0.92836687],\n",
       "       [0.75168993, 0.24831007],\n",
       "       [0.63073438, 0.36926562],\n",
       "       [0.59340939, 0.40659061],\n",
       "       [0.45280519, 0.54719481],\n",
       "       [0.96115742, 0.03884258],\n",
       "       [0.00527424, 0.99472576],\n",
       "       [0.63788718, 0.36211282],\n",
       "       [0.97836496, 0.02163504],\n",
       "       [0.95078534, 0.04921466],\n",
       "       [0.06867857, 0.93132143],\n",
       "       [0.25722251, 0.74277749],\n",
       "       [0.44209534, 0.55790466],\n",
       "       [0.06007659, 0.93992341],\n",
       "       [0.97829347, 0.02170653],\n",
       "       [0.8003757 , 0.1996243 ],\n",
       "       [0.89100337, 0.10899663],\n",
       "       [0.53893834, 0.46106166],\n",
       "       [0.94579364, 0.05420636],\n",
       "       [0.97854321, 0.02145679],\n",
       "       [0.32226586, 0.67773414],\n",
       "       [0.96309293, 0.03690707],\n",
       "       [0.42926703, 0.57073297],\n",
       "       [0.95942822, 0.04057178],\n",
       "       [0.0103265 , 0.9896735 ],\n",
       "       [0.97852037, 0.02147963],\n",
       "       [0.97855945, 0.02144055],\n",
       "       [0.75658809, 0.24341191],\n",
       "       [0.68404488, 0.31595512],\n",
       "       [0.47354691, 0.52645309],\n",
       "       [0.08386763, 0.91613237],\n",
       "       [0.08426824, 0.91573176],\n",
       "       [0.74516846, 0.25483154],\n",
       "       [0.05257597, 0.94742403],\n",
       "       [0.29849216, 0.70150784],\n",
       "       [0.97850242, 0.02149758],\n",
       "       [0.97404878, 0.02595122],\n",
       "       [0.053634  , 0.946366  ],\n",
       "       [0.2327189 , 0.7672811 ],\n",
       "       [0.03221406, 0.96778594],\n",
       "       [0.97805151, 0.02194849],\n",
       "       [0.07343166, 0.92656834],\n",
       "       [0.16742013, 0.83257987],\n",
       "       [0.91985967, 0.08014033],\n",
       "       [0.97824836, 0.02175164],\n",
       "       [0.97133159, 0.02866841],\n",
       "       [0.75298357, 0.24701643],\n",
       "       [0.00922054, 0.99077946],\n",
       "       [0.05405929, 0.94594071],\n",
       "       [0.97758979, 0.02241021],\n",
       "       [0.08600713, 0.91399287],\n",
       "       [0.61400109, 0.38599891],\n",
       "       [0.59382791, 0.40617209],\n",
       "       [0.90980006, 0.09019994],\n",
       "       [0.4267268 , 0.5732732 ],\n",
       "       [0.93188218, 0.06811782],\n",
       "       [0.05461905, 0.94538095],\n",
       "       [0.97823898, 0.02176102],\n",
       "       [0.1586551 , 0.8413449 ],\n",
       "       [0.74494881, 0.25505119],\n",
       "       [0.08916481, 0.91083519],\n",
       "       [0.09550537, 0.90449463]])"
      ]
     },
     "execution_count": 237,
     "metadata": {},
     "output_type": "execute_result"
    }
   ],
   "source": [
    "Y_prob = cls.predict_proba(X)\n",
    "Y_prob"
   ]
  },
  {
   "cell_type": "code",
   "execution_count": 238,
   "metadata": {},
   "outputs": [
    {
     "data": {
      "text/plain": [
       "array([0, 1, 0, 0, 0, 1, 0, 0, 1, 1, 1, 0, 0, 0, 1, 0, 1, 0, 1, 0, 1, 1,\n",
       "       1, 0, 0, 1, 0, 0, 1, 1, 1, 1, 1, 1, 0, 1, 1, 0, 1, 0, 0, 1, 0, 0,\n",
       "       0, 1, 0, 0, 0, 0, 1, 0, 1, 0, 0, 0, 0, 1, 1, 1, 0, 1, 0, 1, 1, 1,\n",
       "       0, 0, 0, 0, 1, 1, 1, 1, 1, 1, 0, 1, 0, 1, 0, 1, 1, 1, 1, 0, 0, 0,\n",
       "       1, 0, 0, 1, 1, 0, 0, 0, 1, 0, 0, 1, 1, 1, 1, 0, 0, 1, 0, 1, 1, 1,\n",
       "       0, 1, 0, 1, 0, 1, 0, 0])"
      ]
     },
     "execution_count": 238,
     "metadata": {},
     "output_type": "execute_result"
    }
   ],
   "source": [
    "Y_hat = cls.predict(X)\n",
    "Y_hat"
   ]
  },
  {
   "cell_type": "code",
   "execution_count": 239,
   "metadata": {},
   "outputs": [
    {
     "data": {
      "text/plain": [
       "0.8559322033898306"
      ]
     },
     "execution_count": 239,
     "metadata": {},
     "output_type": "execute_result"
    }
   ],
   "source": [
    "accuracy_score(Y, Y_hat)"
   ]
  },
  {
   "cell_type": "code",
   "execution_count": 240,
   "metadata": {},
   "outputs": [
    {
     "data": {
      "image/png": "[encoded data removed]",
      "text/plain": [
       "<Figure size 432x288 with 1 Axes>"
      ]
     },
     "metadata": {
      "needs_background": "light"
     },
     "output_type": "display_data"
    }
   ],
   "source": [
    "plot_data(X, Y)\n",
    "plot_surface(cls, X[:, 0], X[:, 1])"
   ]
  },
  {
   "cell_type": "markdown",
   "metadata": {},
   "source": [
    "Зверніть увагу на границю прийняття рішення. Модель старається побудувати складну криву, що може свідчити про її перетренування. Порівняйте отримані результати з класом з sklearn. Спробуйте додати нові шари для нашого класу та порівняти результати тоді. Поекспериментуйте з гіперпараметрами для обох класів."
   ]
  },
  {
   "cell_type": "code",
   "execution_count": 241,
   "metadata": {},
   "outputs": [],
   "source": [
    "from sklearn.neural_network import MLPClassifier\n",
    "clf = MLPClassifier(hidden_layer_sizes = (20,), max_iter = 10000, activation = 'relu', solver = 'sgd', learning_rate_init = 0.01, learning_rate = 'constant')"
   ]
  },
  {
   "cell_type": "code",
   "execution_count": 242,
   "metadata": {},
   "outputs": [
    {
     "data": {
      "text/plain": [
       "MLPClassifier(activation='relu', alpha=0.0001, batch_size='auto', beta_1=0.9,\n",
       "              beta_2=0.999, early_stopping=False, epsilon=1e-08,\n",
       "              hidden_layer_sizes=(20,), learning_rate='constant',\n",
       "              learning_rate_init=0.01, max_iter=10000, momentum=0.9,\n",
       "              n_iter_no_change=10, nesterovs_momentum=True, power_t=0.5,\n",
       "              random_state=None, shuffle=True, solver='sgd', tol=0.0001,\n",
       "              validation_fraction=0.1, verbose=False, warm_start=False)"
      ]
     },
     "execution_count": 242,
     "metadata": {},
     "output_type": "execute_result"
    }
   ],
   "source": [
    "clf.fit(X, Y)"
   ]
  },
  {
   "cell_type": "code",
   "execution_count": 243,
   "metadata": {},
   "outputs": [
    {
     "data": {
      "image/png": "[encoded data removed]",
      "text/plain": [
       "<Figure size 432x288 with 1 Axes>"
      ]
     },
     "metadata": {
      "needs_background": "light"
     },
     "output_type": "display_data"
    }
   ],
   "source": [
    "plot_data(X, Y)\n",
    "plot_surface(clf, X[:, 0], X[:, 1])"
   ]
  },
  {
   "cell_type": "code",
   "execution_count": 244,
   "metadata": {},
   "outputs": [
    {
     "data": {
      "text/plain": [
       "0.8305084745762712"
      ]
     },
     "execution_count": 244,
     "metadata": {},
     "output_type": "execute_result"
    }
   ],
   "source": [
    "accuracy_score(Y, clf.predict(X))"
   ]
  },
  {
   "cell_type": "code",
   "execution_count": null,
   "metadata": {},
   "outputs": [],
   "source": []
  }
 ],
 "metadata": {
  "anaconda-cloud": {},
  "kernelspec": {
   "display_name": "Python 3",
   "language": "python",
   "name": "python3"
  },
  "language_info": {
   "codemirror_mode": {
    "name": "ipython",
    "version": 3
   },
   "file_extension": ".py",
   "mimetype": "text/x-python",
   "name": "python",
   "nbconvert_exporter": "python",
   "pygments_lexer": "ipython3",
   "version": "3.7.3"
  }
 },
 "nbformat": 4,
 "nbformat_minor": 1
}
